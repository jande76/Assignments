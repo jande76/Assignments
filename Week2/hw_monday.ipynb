{
 "cells": [
  {
   "cell_type": "code",
   "execution_count": 18,
   "metadata": {
    "scrolled": true
   },
   "outputs": [
    {
     "name": "stdout",
     "output_type": "stream",
     "text": [
      "14\n",
      "3\n",
      "60\n",
      "3\n",
      "exit program\n"
     ]
    }
   ],
   "source": [
    "def calculator(user_input,num1,num2):\n",
    "    if (user_input ==\"x\"):\n",
    "        print(\"exit program\")\n",
    "    elif (user_input==\"a\"):\n",
    "        print (num1+num2)\n",
    "    elif (user_input==\"d\"):\n",
    "        print (num1//num2)\n",
    "    elif (user_input==\"m\"):\n",
    "        print (num1*num2)\n",
    "    elif (user_input==\"s\"):\n",
    "        print (num1-num2)\n",
    "    \n",
    "\n",
    "calculator(\"a\",5,9)\n",
    "calculator(\"d\",9,3)\n",
    "calculator(\"m\",20,3)\n",
    "calculator(\"s\",7,4)\n",
    "calculator(\"x\",0,0)"
   ]
  },
  {
   "cell_type": "code",
   "execution_count": null,
   "metadata": {},
   "outputs": [],
   "source": [
    "def pyramid(num):\n",
    "    x = []\n",
    "    for k in range(num+1)\n",
    "    c_num = num/2\n",
    "    while c_num >= 0:\n",
    "        print \" \", end =\"\"\n",
    "        c_num = c_num -1\n",
    "        num = num-1\n",
    "        for i in range()\n",
    "    "
   ]
  }
 ],
 "metadata": {
  "kernelspec": {
   "display_name": "Python 3",
   "language": "python",
   "name": "python3"
  },
  "language_info": {
   "codemirror_mode": {
    "name": "ipython",
    "version": 3
   },
   "file_extension": ".py",
   "mimetype": "text/x-python",
   "name": "python",
   "nbconvert_exporter": "python",
   "pygments_lexer": "ipython3",
   "version": "3.8.5"
  }
 },
 "nbformat": 4,
 "nbformat_minor": 4
}
