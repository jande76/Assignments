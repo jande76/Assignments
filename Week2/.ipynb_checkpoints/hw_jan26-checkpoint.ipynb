{
 "cells": [
  {
   "cell_type": "code",
   "execution_count": 1,
   "metadata": {
    "scrolled": true
   },
   "outputs": [
    {
     "name": "stdout",
     "output_type": "stream",
     "text": [
      "show/add/delete or quit?: add\n",
      "What items would you like to add?ham\n",
      "show/add/delete or quit?: quit\n",
      "['ham']\n"
     ]
    }
   ],
   "source": [
    "from IPython.display import clear_output\n",
    "\n",
    "def Shopping_cart():\n",
    "    grocery_list = []\n",
    "\n",
    "    while True:\n",
    "        user_input = input('show/add/delete or quit?: ')\n",
    "        if user_input.lower() == \"add\":\n",
    "            groceries=input(\"What items would you like to add?\")\n",
    "            grocery_list.append(groceries)\n",
    "            clear_output\n",
    "        elif user_input.lower==\"show\":\n",
    "            print(grocery_list)\n",
    "            user_input=input('Show/Add/Delete or Quit: ')\n",
    "            clear_output()\n",
    "        elif user_input.lower() =='delete' :\n",
    "            groceries=input('What would you like to delete?: ')\n",
    "            grocery_list.remove(groceries)\n",
    "            clear_output()\n",
    "        elif user_input.lower() =='quit':\n",
    "            print (grocery_list)\n",
    "            break\n",
    "                \n",
    "Shopping_cart()"
   ]
  },
  {
   "cell_type": "code",
   "execution_count": 4,
   "metadata": {},
   "outputs": [
    {
     "name": "stdout",
     "output_type": "stream",
     "text": [
      "54\n",
      "50.24\n",
      "width7\n",
      "length7\n",
      "49\n",
      "radius9\n",
      "56.52\n"
     ]
    }
   ],
   "source": [
    "%run ./exercise2.py\n",
    "user_length= int(input('width'))\n",
    "user_width=int(input('length'))\n",
    "print(room_area(user_length,user_width))\n",
    "user_radius = int(input('radius'))\n",
    "print(circ(user_radius))\n"
   ]
  },
  {
   "cell_type": "code",
   "execution_count": null,
   "metadata": {},
   "outputs": [],
   "source": []
  },
  {
   "cell_type": "code",
   "execution_count": null,
   "metadata": {},
   "outputs": [],
   "source": []
  }
 ],
 "metadata": {
  "kernelspec": {
   "display_name": "Python 3",
   "language": "python",
   "name": "python3"
  },
  "language_info": {
   "codemirror_mode": {
    "name": "ipython",
    "version": 3
   },
   "file_extension": ".py",
   "mimetype": "text/x-python",
   "name": "python",
   "nbconvert_exporter": "python",
   "pygments_lexer": "ipython3",
   "version": "3.8.5"
  }
 },
 "nbformat": 4,
 "nbformat_minor": 4
}
